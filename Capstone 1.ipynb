{
 "cells": [
  {
   "cell_type": "markdown",
   "metadata": {},
   "source": [
    "This project will look at how the length of girls' names in the US has changed over time, and how it varies by region. This information could be useful to people studying our society who might be able to find different influences that correlate with these changes. For example, if there is a distinct change that could be explained by a large increase in immigration. There are also cultural things that can be learned about each region.\n",
    "\n",
    "The first step is to import any libraries that we might need."
   ]
  },
  {
   "cell_type": "code",
   "execution_count": 1,
   "metadata": {},
   "outputs": [],
   "source": [
    "%matplotlib inline\n",
    "import pandas as pd\n",
    "import numpy as np\n",
    "import matplotlib.pyplot as plt\n",
    "import seaborn as sns\n",
    "from scipy import stats\n",
    "import warnings\n",
    "warnings.simplefilter('ignore')"
   ]
  },
  {
   "cell_type": "markdown",
   "metadata": {},
   "source": [
    "Now that we have imported pandas, we can read in the datasets. One looks at national statistics, and one breaks the information down by state. We can check the info of both to see what columns we have, and the heads to see what the results look like."
   ]
  },
  {
   "cell_type": "code",
   "execution_count": 2,
   "metadata": {},
   "outputs": [
    {
     "name": "stdout",
     "output_type": "stream",
     "text": [
      "<class 'pandas.core.frame.DataFrame'>\n",
      "RangeIndex: 5647426 entries, 0 to 5647425\n",
      "Data columns (total 6 columns):\n",
      "Id        int64\n",
      "Name      object\n",
      "Year      int64\n",
      "Gender    object\n",
      "State     object\n",
      "Count     int64\n",
      "dtypes: int64(3), object(3)\n",
      "memory usage: 258.5+ MB\n"
     ]
    },
    {
     "data": {
      "text/html": [
       "<div>\n",
       "<style scoped>\n",
       "    .dataframe tbody tr th:only-of-type {\n",
       "        vertical-align: middle;\n",
       "    }\n",
       "\n",
       "    .dataframe tbody tr th {\n",
       "        vertical-align: top;\n",
       "    }\n",
       "\n",
       "    .dataframe thead th {\n",
       "        text-align: right;\n",
       "    }\n",
       "</style>\n",
       "<table border=\"1\" class=\"dataframe\">\n",
       "  <thead>\n",
       "    <tr style=\"text-align: right;\">\n",
       "      <th></th>\n",
       "      <th>Id</th>\n",
       "      <th>Name</th>\n",
       "      <th>Year</th>\n",
       "      <th>Gender</th>\n",
       "      <th>State</th>\n",
       "      <th>Count</th>\n",
       "    </tr>\n",
       "  </thead>\n",
       "  <tbody>\n",
       "    <tr>\n",
       "      <td>0</td>\n",
       "      <td>1</td>\n",
       "      <td>Mary</td>\n",
       "      <td>1910</td>\n",
       "      <td>F</td>\n",
       "      <td>AK</td>\n",
       "      <td>14</td>\n",
       "    </tr>\n",
       "    <tr>\n",
       "      <td>1</td>\n",
       "      <td>2</td>\n",
       "      <td>Annie</td>\n",
       "      <td>1910</td>\n",
       "      <td>F</td>\n",
       "      <td>AK</td>\n",
       "      <td>12</td>\n",
       "    </tr>\n",
       "    <tr>\n",
       "      <td>2</td>\n",
       "      <td>3</td>\n",
       "      <td>Anna</td>\n",
       "      <td>1910</td>\n",
       "      <td>F</td>\n",
       "      <td>AK</td>\n",
       "      <td>10</td>\n",
       "    </tr>\n",
       "    <tr>\n",
       "      <td>3</td>\n",
       "      <td>4</td>\n",
       "      <td>Margaret</td>\n",
       "      <td>1910</td>\n",
       "      <td>F</td>\n",
       "      <td>AK</td>\n",
       "      <td>8</td>\n",
       "    </tr>\n",
       "    <tr>\n",
       "      <td>4</td>\n",
       "      <td>5</td>\n",
       "      <td>Helen</td>\n",
       "      <td>1910</td>\n",
       "      <td>F</td>\n",
       "      <td>AK</td>\n",
       "      <td>7</td>\n",
       "    </tr>\n",
       "  </tbody>\n",
       "</table>\n",
       "</div>"
      ],
      "text/plain": [
       "   Id      Name  Year Gender State  Count\n",
       "0   1      Mary  1910      F    AK     14\n",
       "1   2     Annie  1910      F    AK     12\n",
       "2   3      Anna  1910      F    AK     10\n",
       "3   4  Margaret  1910      F    AK      8\n",
       "4   5     Helen  1910      F    AK      7"
      ]
     },
     "execution_count": 2,
     "metadata": {},
     "output_type": "execute_result"
    }
   ],
   "source": [
    "statenames = pd.read_csv('StateNames.csv')\n",
    "statenames.info()\n",
    "statenames.head()"
   ]
  },
  {
   "cell_type": "code",
   "execution_count": 3,
   "metadata": {},
   "outputs": [
    {
     "name": "stdout",
     "output_type": "stream",
     "text": [
      "<class 'pandas.core.frame.DataFrame'>\n",
      "RangeIndex: 1825433 entries, 0 to 1825432\n",
      "Data columns (total 5 columns):\n",
      "Id        int64\n",
      "Name      object\n",
      "Year      int64\n",
      "Gender    object\n",
      "Count     int64\n",
      "dtypes: int64(3), object(2)\n",
      "memory usage: 69.6+ MB\n"
     ]
    },
    {
     "data": {
      "text/html": [
       "<div>\n",
       "<style scoped>\n",
       "    .dataframe tbody tr th:only-of-type {\n",
       "        vertical-align: middle;\n",
       "    }\n",
       "\n",
       "    .dataframe tbody tr th {\n",
       "        vertical-align: top;\n",
       "    }\n",
       "\n",
       "    .dataframe thead th {\n",
       "        text-align: right;\n",
       "    }\n",
       "</style>\n",
       "<table border=\"1\" class=\"dataframe\">\n",
       "  <thead>\n",
       "    <tr style=\"text-align: right;\">\n",
       "      <th></th>\n",
       "      <th>Id</th>\n",
       "      <th>Name</th>\n",
       "      <th>Year</th>\n",
       "      <th>Gender</th>\n",
       "      <th>Count</th>\n",
       "    </tr>\n",
       "  </thead>\n",
       "  <tbody>\n",
       "    <tr>\n",
       "      <td>0</td>\n",
       "      <td>1</td>\n",
       "      <td>Mary</td>\n",
       "      <td>1880</td>\n",
       "      <td>F</td>\n",
       "      <td>7065</td>\n",
       "    </tr>\n",
       "    <tr>\n",
       "      <td>1</td>\n",
       "      <td>2</td>\n",
       "      <td>Anna</td>\n",
       "      <td>1880</td>\n",
       "      <td>F</td>\n",
       "      <td>2604</td>\n",
       "    </tr>\n",
       "    <tr>\n",
       "      <td>2</td>\n",
       "      <td>3</td>\n",
       "      <td>Emma</td>\n",
       "      <td>1880</td>\n",
       "      <td>F</td>\n",
       "      <td>2003</td>\n",
       "    </tr>\n",
       "    <tr>\n",
       "      <td>3</td>\n",
       "      <td>4</td>\n",
       "      <td>Elizabeth</td>\n",
       "      <td>1880</td>\n",
       "      <td>F</td>\n",
       "      <td>1939</td>\n",
       "    </tr>\n",
       "    <tr>\n",
       "      <td>4</td>\n",
       "      <td>5</td>\n",
       "      <td>Minnie</td>\n",
       "      <td>1880</td>\n",
       "      <td>F</td>\n",
       "      <td>1746</td>\n",
       "    </tr>\n",
       "  </tbody>\n",
       "</table>\n",
       "</div>"
      ],
      "text/plain": [
       "   Id       Name  Year Gender  Count\n",
       "0   1       Mary  1880      F   7065\n",
       "1   2       Anna  1880      F   2604\n",
       "2   3       Emma  1880      F   2003\n",
       "3   4  Elizabeth  1880      F   1939\n",
       "4   5     Minnie  1880      F   1746"
      ]
     },
     "execution_count": 3,
     "metadata": {},
     "output_type": "execute_result"
    }
   ],
   "source": [
    "nationalnames = pd.read_csv('NationalNames.csv')\n",
    "nationalnames.info()\n",
    "nationalnames.head()"
   ]
  },
  {
   "cell_type": "markdown",
   "metadata": {},
   "source": [
    "Next, we must make new dataframes that only include girls' names. We can check the info to see that the number of entries in are being cut in about half."
   ]
  },
  {
   "cell_type": "code",
   "execution_count": 4,
   "metadata": {},
   "outputs": [
    {
     "name": "stdout",
     "output_type": "stream",
     "text": [
      "<class 'pandas.core.frame.DataFrame'>\n",
      "Int64Index: 3154009 entries, 0 to 5634123\n",
      "Data columns (total 6 columns):\n",
      "Id        int64\n",
      "Name      object\n",
      "Year      int64\n",
      "Gender    object\n",
      "State     object\n",
      "Count     int64\n",
      "dtypes: int64(3), object(3)\n",
      "memory usage: 168.4+ MB\n"
     ]
    }
   ],
   "source": [
    "f_state = statenames[statenames['Gender']=='F']\n",
    "f_state.info()"
   ]
  },
  {
   "cell_type": "code",
   "execution_count": 5,
   "metadata": {},
   "outputs": [
    {
     "name": "stdout",
     "output_type": "stream",
     "text": [
      "<class 'pandas.core.frame.DataFrame'>\n",
      "Int64Index: 1081683 entries, 0 to 1811455\n",
      "Data columns (total 5 columns):\n",
      "Id        1081683 non-null int64\n",
      "Name      1081683 non-null object\n",
      "Year      1081683 non-null int64\n",
      "Gender    1081683 non-null object\n",
      "Count     1081683 non-null int64\n",
      "dtypes: int64(3), object(2)\n",
      "memory usage: 49.5+ MB\n"
     ]
    }
   ],
   "source": [
    "f_national = nationalnames[nationalnames['Gender']=='F']\n",
    "f_national.info()"
   ]
  },
  {
   "cell_type": "markdown",
   "metadata": {},
   "source": [
    "Let's add the column that measures the length of each name."
   ]
  },
  {
   "cell_type": "code",
   "execution_count": 6,
   "metadata": {},
   "outputs": [
    {
     "data": {
      "text/html": [
       "<div>\n",
       "<style scoped>\n",
       "    .dataframe tbody tr th:only-of-type {\n",
       "        vertical-align: middle;\n",
       "    }\n",
       "\n",
       "    .dataframe tbody tr th {\n",
       "        vertical-align: top;\n",
       "    }\n",
       "\n",
       "    .dataframe thead th {\n",
       "        text-align: right;\n",
       "    }\n",
       "</style>\n",
       "<table border=\"1\" class=\"dataframe\">\n",
       "  <thead>\n",
       "    <tr style=\"text-align: right;\">\n",
       "      <th></th>\n",
       "      <th>Id</th>\n",
       "      <th>Name</th>\n",
       "      <th>Year</th>\n",
       "      <th>Gender</th>\n",
       "      <th>Count</th>\n",
       "      <th>Length</th>\n",
       "    </tr>\n",
       "  </thead>\n",
       "  <tbody>\n",
       "    <tr>\n",
       "      <td>0</td>\n",
       "      <td>1</td>\n",
       "      <td>Mary</td>\n",
       "      <td>1880</td>\n",
       "      <td>F</td>\n",
       "      <td>7065</td>\n",
       "      <td>4</td>\n",
       "    </tr>\n",
       "    <tr>\n",
       "      <td>1</td>\n",
       "      <td>2</td>\n",
       "      <td>Anna</td>\n",
       "      <td>1880</td>\n",
       "      <td>F</td>\n",
       "      <td>2604</td>\n",
       "      <td>4</td>\n",
       "    </tr>\n",
       "    <tr>\n",
       "      <td>2</td>\n",
       "      <td>3</td>\n",
       "      <td>Emma</td>\n",
       "      <td>1880</td>\n",
       "      <td>F</td>\n",
       "      <td>2003</td>\n",
       "      <td>4</td>\n",
       "    </tr>\n",
       "    <tr>\n",
       "      <td>3</td>\n",
       "      <td>4</td>\n",
       "      <td>Elizabeth</td>\n",
       "      <td>1880</td>\n",
       "      <td>F</td>\n",
       "      <td>1939</td>\n",
       "      <td>9</td>\n",
       "    </tr>\n",
       "    <tr>\n",
       "      <td>4</td>\n",
       "      <td>5</td>\n",
       "      <td>Minnie</td>\n",
       "      <td>1880</td>\n",
       "      <td>F</td>\n",
       "      <td>1746</td>\n",
       "      <td>6</td>\n",
       "    </tr>\n",
       "  </tbody>\n",
       "</table>\n",
       "</div>"
      ],
      "text/plain": [
       "   Id       Name  Year Gender  Count  Length\n",
       "0   1       Mary  1880      F   7065       4\n",
       "1   2       Anna  1880      F   2604       4\n",
       "2   3       Emma  1880      F   2003       4\n",
       "3   4  Elizabeth  1880      F   1939       9\n",
       "4   5     Minnie  1880      F   1746       6"
      ]
     },
     "execution_count": 6,
     "metadata": {},
     "output_type": "execute_result"
    }
   ],
   "source": [
    "f_national['Length'] = f_national['Name'].str.len()\n",
    "f_state['Length'] = f_state['Name'].str.len()\n",
    "\n",
    "f_national.head()"
   ]
  },
  {
   "cell_type": "markdown",
   "metadata": {},
   "source": [
    "Now we can break down our national dataset into different time spans. We are going to look at the 1900s in periods of 20 years."
   ]
  },
  {
   "cell_type": "code",
   "execution_count": 7,
   "metadata": {},
   "outputs": [],
   "source": [
    "time1 = f_national[(f_national['Year']>1899) & (f_national['Year']<1920)]\n",
    "time2 = f_national[(f_national['Year']>1919) & (f_national['Year']<1940)]\n",
    "time3 = f_national[(f_national['Year']>1939) & (f_national['Year']<1960)]\n",
    "time4 = f_national[(f_national['Year']>1959) & (f_national['Year']<1980)]\n",
    "time5 = f_national[(f_national['Year']>1979) & (f_national['Year']<2000)]"
   ]
  },
  {
   "cell_type": "markdown",
   "metadata": {},
   "source": [
    "The null hypothesis is that each consecutive time period is from the same distribution. I hypothesize that each consecutive time period has a different distribution than the previous."
   ]
  },
  {
   "cell_type": "code",
   "execution_count": 8,
   "metadata": {},
   "outputs": [
    {
     "data": {
      "image/png": "[encoded data removed]",
      "text/plain": [
       "<Figure size 432x288 with 1 Axes>"
      ]
     },
     "metadata": {
      "needs_background": "light"
     },
     "output_type": "display_data"
    }
   ],
   "source": [
    "plt.hist(time1['Length'], alpha = .5, label = '1900-1919')\n",
    "plt.hist(time2['Length'], alpha = .5, label = '1920-1939')\n",
    "plt.title('Name Lengths')\n",
    "plt.xlabel('Length of Name')\n",
    "plt.ylabel('Number of Names')\n",
    "plt.legend(loc='upper right');"
   ]
  },
  {
   "cell_type": "code",
   "execution_count": 9,
   "metadata": {},
   "outputs": [
    {
     "name": "stdout",
     "output_type": "stream",
     "text": [
      "DescribeResult(nobs=65899, minmax=(2, 13), mean=6.055144994612968, variance=2.226981138874874, skewness=0.3497937626786011, kurtosis=0.016219180681165568)\n",
      "DescribeResult(nobs=106540, minmax=(2, 13), mean=6.235535948939366, variance=2.1694915561185626, skewness=0.23804833795386499, kurtosis=-0.03338473053882218)\n"
     ]
    }
   ],
   "source": [
    "print(stats.describe(time1['Length']))\n",
    "print(stats.describe(time2['Length']))"
   ]
  },
  {
   "cell_type": "markdown",
   "metadata": {},
   "source": [
    "From looking at the histogram and the stats, we can conclude that both sets are sufficiently normal to perform a t-test."
   ]
  },
  {
   "cell_type": "code",
   "execution_count": 10,
   "metadata": {},
   "outputs": [
    {
     "data": {
      "text/plain": [
       "Ttest_indResult(statistic=-24.588148880984622, pvalue=2.8748996764504384e-133)"
      ]
     },
     "execution_count": 10,
     "metadata": {},
     "output_type": "execute_result"
    }
   ],
   "source": [
    "stats.ttest_ind(time1['Length'], time2['Length'])"
   ]
  },
  {
   "cell_type": "markdown",
   "metadata": {},
   "source": [
    "Because our pvalue < .05, we reject the null hypothesis and conclude that the distribution of name lengths from 1900-1919 is different from the distribution of name lengths from 1920-1939.\n",
    "\n",
    "We will now repeat this task for the other consecutive time periods."
   ]
  },
  {
   "cell_type": "code",
   "execution_count": 11,
   "metadata": {},
   "outputs": [
    {
     "data": {
      "image/png": "[encoded data removed]",
      "text/plain": [
       "<Figure size 432x288 with 1 Axes>"
      ]
     },
     "metadata": {
      "needs_background": "light"
     },
     "output_type": "display_data"
    }
   ],
   "source": [
    "plt.hist(time2['Length'], alpha = .5, label = '1920-1939')\n",
    "plt.hist(time3['Length'], alpha = .5, label = '1940-1959')\n",
    "plt.title('Name Lengths')\n",
    "plt.xlabel('Length of Name')\n",
    "plt.ylabel('Number of Names')\n",
    "plt.legend(loc='upper right');"
   ]
  },
  {
   "cell_type": "code",
   "execution_count": 12,
   "metadata": {},
   "outputs": [
    {
     "name": "stdout",
     "output_type": "stream",
     "text": [
      "DescribeResult(nobs=106540, minmax=(2, 13), mean=6.235535948939366, variance=2.1694915561185626, skewness=0.23804833795386499, kurtosis=-0.03338473053882218)\n",
      "DescribeResult(nobs=121895, minmax=(2, 13), mean=6.242979613601871, variance=2.1703236402475907, skewness=0.24805956670626164, kurtosis=0.04619476769463082)\n"
     ]
    }
   ],
   "source": [
    "print(stats.describe(time2['Length']))\n",
    "print(stats.describe(time3['Length']))"
   ]
  },
  {
   "cell_type": "code",
   "execution_count": 13,
   "metadata": {},
   "outputs": [
    {
     "data": {
      "text/plain": [
       "Ttest_indResult(statistic=-1.2048454731334637, pvalue=0.22826420983719842)"
      ]
     },
     "execution_count": 13,
     "metadata": {},
     "output_type": "execute_result"
    }
   ],
   "source": [
    "stats.ttest_ind(time2['Length'], time3['Length'])"
   ]
  },
  {
   "cell_type": "code",
   "execution_count": 14,
   "metadata": {},
   "outputs": [
    {
     "data": {
      "image/png": "[encoded data removed]",
      "text/plain": [
       "<Figure size 432x288 with 1 Axes>"
      ]
     },
     "metadata": {
      "needs_background": "light"
     },
     "output_type": "display_data"
    }
   ],
   "source": [
    "plt.hist(time3['Length'], alpha = .5, label = '1940-1959')\n",
    "plt.hist(time4['Length'], alpha = .5, label = '1960-1979')\n",
    "plt.title('Name Lengths')\n",
    "plt.xlabel('Length of Name')\n",
    "plt.ylabel('Number of Names')\n",
    "plt.legend(loc='upper right');"
   ]
  },
  {
   "cell_type": "code",
   "execution_count": 15,
   "metadata": {},
   "outputs": [
    {
     "name": "stdout",
     "output_type": "stream",
     "text": [
      "DescribeResult(nobs=121895, minmax=(2, 13), mean=6.242979613601871, variance=2.1703236402475907, skewness=0.24805956670626164, kurtosis=0.04619476769463082)\n",
      "DescribeResult(nobs=182726, minmax=(2, 14), mean=6.325246544005779, variance=2.091215064403844, skewness=0.18385244415646185, kurtosis=0.1222517293352201)\n"
     ]
    }
   ],
   "source": [
    "print(stats.describe(time3['Length']))\n",
    "print(stats.describe(time4['Length']))"
   ]
  },
  {
   "cell_type": "code",
   "execution_count": 16,
   "metadata": {},
   "outputs": [
    {
     "data": {
      "text/plain": [
       "Ttest_indResult(statistic=-15.267809662128435, pvalue=1.3107380511491208e-52)"
      ]
     },
     "execution_count": 16,
     "metadata": {},
     "output_type": "execute_result"
    }
   ],
   "source": [
    "stats.ttest_ind(time3['Length'], time4['Length'])"
   ]
  },
  {
   "cell_type": "code",
   "execution_count": 17,
   "metadata": {},
   "outputs": [
    {
     "data": {
      "image/png": "[encoded data removed]",
      "text/plain": [
       "<Figure size 432x288 with 1 Axes>"
      ]
     },
     "metadata": {
      "needs_background": "light"
     },
     "output_type": "display_data"
    }
   ],
   "source": [
    "plt.hist(time4['Length'], alpha = .5, label = '1960-1979')\n",
    "plt.hist(time5['Length'], alpha = .5, label = '1980-1999')\n",
    "plt.title('Name Lengths')\n",
    "plt.xlabel('Length of Name')\n",
    "plt.ylabel('Number of Names')\n",
    "plt.legend(loc='upper right');"
   ]
  },
  {
   "cell_type": "code",
   "execution_count": 18,
   "metadata": {},
   "outputs": [
    {
     "name": "stdout",
     "output_type": "stream",
     "text": [
      "DescribeResult(nobs=182726, minmax=(2, 14), mean=6.325246544005779, variance=2.091215064403844, skewness=0.18385244415646185, kurtosis=0.1222517293352201)\n",
      "DescribeResult(nobs=287043, minmax=(2, 15), mean=6.413850886452552, variance=2.105491223046251, skewness=0.2415767958560376, kurtosis=0.5881709159201578)\n"
     ]
    }
   ],
   "source": [
    "print(stats.describe(time4['Length']))\n",
    "print(stats.describe(time5['Length']))"
   ]
  },
  {
   "cell_type": "code",
   "execution_count": 19,
   "metadata": {},
   "outputs": [
    {
     "data": {
      "text/plain": [
       "Ttest_indResult(statistic=-20.43069888988429, pvalue=9.79219736140237e-93)"
      ]
     },
     "execution_count": 19,
     "metadata": {},
     "output_type": "execute_result"
    }
   ],
   "source": [
    "stats.ttest_ind(time4['Length'], time5['Length'])"
   ]
  },
  {
   "cell_type": "markdown",
   "metadata": {},
   "source": [
    "The only pvalue>.05 is between 1920-1939 and 1940-1959. That means that we cannot reject the null hypothesis that these two periods have different distributions.\n",
    "\n",
    "We reject the null hypothesis for all other consecutive time periods.\n",
    "\n",
    "With the length of names appearing to change over time, we can now look at one time period to see how name length varies by region. We will look at 1980-1999 because it is the most recent 20 year window we can look at. I did not want to use an earlier period before the US had 50 states. I broke the states into regions that the US census bureau provided."
   ]
  },
  {
   "cell_type": "code",
   "execution_count": 20,
   "metadata": {},
   "outputs": [],
   "source": [
    "Northeast = ['ME', 'NH', 'VT', 'MA', 'NY', 'NJ', 'PA', 'CT', 'RI']\n",
    "Midwest = ['OH', 'MI', 'IN', 'WI', 'IL', 'MN', 'IA', 'MO', 'ND', 'SD', 'NE', 'KS']\n",
    "South = ['DE', 'MD', 'VA', 'WV', 'KY', 'NC', 'SC', 'TE', 'GA', 'FL', 'AL', 'MS', 'AR', 'LA', 'TX', 'OK', 'DC']\n",
    "West = ['MT', 'ID', 'WY', 'CO', 'NM', 'AZ', 'UT', 'NV', 'CA', 'OR', 'WA', 'AK', 'HI']"
   ]
  },
  {
   "cell_type": "markdown",
   "metadata": {},
   "source": [
    "Here we can create a column called 'Region' to assign a region to each state."
   ]
  },
  {
   "cell_type": "code",
   "execution_count": 21,
   "metadata": {},
   "outputs": [
    {
     "data": {
      "text/html": [
       "<div>\n",
       "<style scoped>\n",
       "    .dataframe tbody tr th:only-of-type {\n",
       "        vertical-align: middle;\n",
       "    }\n",
       "\n",
       "    .dataframe tbody tr th {\n",
       "        vertical-align: top;\n",
       "    }\n",
       "\n",
       "    .dataframe thead th {\n",
       "        text-align: right;\n",
       "    }\n",
       "</style>\n",
       "<table border=\"1\" class=\"dataframe\">\n",
       "  <thead>\n",
       "    <tr style=\"text-align: right;\">\n",
       "      <th></th>\n",
       "      <th>Id</th>\n",
       "      <th>Name</th>\n",
       "      <th>Year</th>\n",
       "      <th>Gender</th>\n",
       "      <th>State</th>\n",
       "      <th>Count</th>\n",
       "      <th>Length</th>\n",
       "      <th>Region</th>\n",
       "    </tr>\n",
       "  </thead>\n",
       "  <tbody>\n",
       "    <tr>\n",
       "      <td>0</td>\n",
       "      <td>1</td>\n",
       "      <td>Mary</td>\n",
       "      <td>1910</td>\n",
       "      <td>F</td>\n",
       "      <td>AK</td>\n",
       "      <td>14</td>\n",
       "      <td>4</td>\n",
       "      <td>West</td>\n",
       "    </tr>\n",
       "    <tr>\n",
       "      <td>1</td>\n",
       "      <td>2</td>\n",
       "      <td>Annie</td>\n",
       "      <td>1910</td>\n",
       "      <td>F</td>\n",
       "      <td>AK</td>\n",
       "      <td>12</td>\n",
       "      <td>5</td>\n",
       "      <td>West</td>\n",
       "    </tr>\n",
       "    <tr>\n",
       "      <td>2</td>\n",
       "      <td>3</td>\n",
       "      <td>Anna</td>\n",
       "      <td>1910</td>\n",
       "      <td>F</td>\n",
       "      <td>AK</td>\n",
       "      <td>10</td>\n",
       "      <td>4</td>\n",
       "      <td>West</td>\n",
       "    </tr>\n",
       "    <tr>\n",
       "      <td>3</td>\n",
       "      <td>4</td>\n",
       "      <td>Margaret</td>\n",
       "      <td>1910</td>\n",
       "      <td>F</td>\n",
       "      <td>AK</td>\n",
       "      <td>8</td>\n",
       "      <td>8</td>\n",
       "      <td>West</td>\n",
       "    </tr>\n",
       "    <tr>\n",
       "      <td>4</td>\n",
       "      <td>5</td>\n",
       "      <td>Helen</td>\n",
       "      <td>1910</td>\n",
       "      <td>F</td>\n",
       "      <td>AK</td>\n",
       "      <td>7</td>\n",
       "      <td>5</td>\n",
       "      <td>West</td>\n",
       "    </tr>\n",
       "  </tbody>\n",
       "</table>\n",
       "</div>"
      ],
      "text/plain": [
       "   Id      Name  Year Gender State  Count  Length Region\n",
       "0   1      Mary  1910      F    AK     14       4   West\n",
       "1   2     Annie  1910      F    AK     12       5   West\n",
       "2   3      Anna  1910      F    AK     10       4   West\n",
       "3   4  Margaret  1910      F    AK      8       8   West\n",
       "4   5     Helen  1910      F    AK      7       5   West"
      ]
     },
     "execution_count": 21,
     "metadata": {},
     "output_type": "execute_result"
    }
   ],
   "source": [
    "f_state['Region'] = f_state['State'].apply(lambda x: 'West' if x in West else ('Midwest' if x in Midwest else ('South' if x in South else 'Northeast')))\n",
    "f_state.head()\n"
   ]
  },
  {
   "cell_type": "markdown",
   "metadata": {},
   "source": [
    "We can again divide this into the 20 year period that we want to test, and then by region."
   ]
  },
  {
   "cell_type": "code",
   "execution_count": 22,
   "metadata": {},
   "outputs": [],
   "source": [
    "time = f_state[(f_state['Year']>1979) & (f_state['Year']<2000)]"
   ]
  },
  {
   "cell_type": "code",
   "execution_count": 23,
   "metadata": {},
   "outputs": [],
   "source": [
    "northeast = time[(time['Region']=='Northeast')]\n",
    "midwest = time[(time['Region']=='Midwest')]\n",
    "south = time[(time['Region']=='South')]\n",
    "west = time[(time['Region']=='West')]"
   ]
  },
  {
   "cell_type": "markdown",
   "metadata": {},
   "source": [
    "The null hypothesis is that name length from 1980-1999 did not vary by region. The alternate hypothesis is that each region has a statistically significant distribution. I would especially expect the South to appear different and have more longer names because they are known for putting two names together as one first name."
   ]
  },
  {
   "cell_type": "code",
   "execution_count": 24,
   "metadata": {},
   "outputs": [
    {
     "data": {
      "image/png": "[encoded data removed]",
      "text/plain": [
       "<Figure size 432x288 with 1 Axes>"
      ]
     },
     "metadata": {
      "needs_background": "light"
     },
     "output_type": "display_data"
    }
   ],
   "source": [
    "plt.hist(northeast['Length'], alpha = .5, label = 'Northeast')\n",
    "plt.hist(midwest['Length'], alpha = .5, label = 'Midwest')\n",
    "plt.title('Name Lengths')\n",
    "plt.xlabel('Length of Name')\n",
    "plt.ylabel('Number of Names')\n",
    "plt.legend(loc='upper right');"
   ]
  },
  {
   "cell_type": "code",
   "execution_count": 25,
   "metadata": {},
   "outputs": [
    {
     "name": "stdout",
     "output_type": "stream",
     "text": [
      "DescribeResult(nobs=148502, minmax=(2, 13), mean=6.134853402647776, variance=1.9587304176980331, skewness=0.19010562003558606, kurtosis=-0.19077983289800748)\n",
      "DescribeResult(nobs=176680, minmax=(2, 13), mean=6.063266923251075, variance=1.91567080599222, skewness=0.21963303349568314, kurtosis=-0.1737440441330449)\n"
     ]
    }
   ],
   "source": [
    "print(stats.describe(northeast['Length']))\n",
    "print(stats.describe(midwest['Length']))"
   ]
  },
  {
   "cell_type": "code",
   "execution_count": 26,
   "metadata": {},
   "outputs": [
    {
     "data": {
      "text/plain": [
       "Ttest_indResult(statistic=14.616706593270461, pvalue=2.27697971659696e-48)"
      ]
     },
     "execution_count": 26,
     "metadata": {},
     "output_type": "execute_result"
    }
   ],
   "source": [
    "stats.ttest_ind(northeast['Length'], midwest['Length'])"
   ]
  },
  {
   "cell_type": "code",
   "execution_count": 27,
   "metadata": {},
   "outputs": [
    {
     "data": {
      "image/png": "[encoded data removed]",
      "text/plain": [
       "<Figure size 432x288 with 1 Axes>"
      ]
     },
     "metadata": {
      "needs_background": "light"
     },
     "output_type": "display_data"
    }
   ],
   "source": [
    "plt.hist(northeast['Length'], alpha = .5, label = 'Northeast')\n",
    "plt.hist(south['Length'], alpha = .5, label = 'South')\n",
    "plt.title('Name Lengths')\n",
    "plt.xlabel('Length of Name')\n",
    "plt.ylabel('Number of Names')\n",
    "plt.legend(loc='upper right');"
   ]
  },
  {
   "cell_type": "code",
   "execution_count": 28,
   "metadata": {},
   "outputs": [
    {
     "name": "stdout",
     "output_type": "stream",
     "text": [
      "DescribeResult(nobs=148502, minmax=(2, 13), mean=6.134853402647776, variance=1.9587304176980331, skewness=0.19010562003558606, kurtosis=-0.19077983289800748)\n",
      "DescribeResult(nobs=255313, minmax=(2, 14), mean=6.138755175020465, variance=1.9029910821650566, skewness=0.18334032222450933, kurtosis=-0.16114589293743808)\n"
     ]
    }
   ],
   "source": [
    "print(stats.describe(northeast['Length']))\n",
    "print(stats.describe(south['Length']))"
   ]
  },
  {
   "cell_type": "code",
   "execution_count": 29,
   "metadata": {},
   "outputs": [
    {
     "data": {
      "text/plain": [
       "Ttest_indResult(statistic=-0.8620420717450121, pvalue=0.38866487857661525)"
      ]
     },
     "execution_count": 29,
     "metadata": {},
     "output_type": "execute_result"
    }
   ],
   "source": [
    "stats.ttest_ind(northeast['Length'], south['Length'])"
   ]
  },
  {
   "cell_type": "code",
   "execution_count": 30,
   "metadata": {},
   "outputs": [
    {
     "data": {
      "image/png": "[encoded data removed]",
      "text/plain": [
       "<Figure size 432x288 with 1 Axes>"
      ]
     },
     "metadata": {
      "needs_background": "light"
     },
     "output_type": "display_data"
    }
   ],
   "source": [
    "plt.hist(northeast['Length'], alpha = .5, label = 'Northeast')\n",
    "plt.hist(west['Length'], alpha = .5, label = 'West')\n",
    "plt.title('Name Lengths')\n",
    "plt.xlabel('Length of Name')\n",
    "plt.ylabel('Number of Names')\n",
    "plt.legend(loc='upper right');"
   ]
  },
  {
   "cell_type": "code",
   "execution_count": 31,
   "metadata": {},
   "outputs": [
    {
     "name": "stdout",
     "output_type": "stream",
     "text": [
      "DescribeResult(nobs=148502, minmax=(2, 13), mean=6.134853402647776, variance=1.9587304176980331, skewness=0.19010562003558606, kurtosis=-0.19077983289800748)\n",
      "DescribeResult(nobs=177030, minmax=(2, 15), mean=6.142348754448399, variance=1.9984229215998537, skewness=0.2632636713862051, kurtosis=0.16485764835618388)\n"
     ]
    }
   ],
   "source": [
    "print(stats.describe(northeast['Length']))\n",
    "print(stats.describe(west['Length']))"
   ]
  },
  {
   "cell_type": "code",
   "execution_count": 32,
   "metadata": {},
   "outputs": [
    {
     "data": {
      "text/plain": [
       "Ttest_indResult(statistic=-1.5136223312840116, pvalue=0.130122624815668)"
      ]
     },
     "execution_count": 32,
     "metadata": {},
     "output_type": "execute_result"
    }
   ],
   "source": [
    "stats.ttest_ind(northeast['Length'], west['Length'])"
   ]
  },
  {
   "cell_type": "code",
   "execution_count": 33,
   "metadata": {},
   "outputs": [
    {
     "data": {
      "image/png": "[encoded data removed]",
      "text/plain": [
       "<Figure size 432x288 with 1 Axes>"
      ]
     },
     "metadata": {
      "needs_background": "light"
     },
     "output_type": "display_data"
    }
   ],
   "source": [
    "plt.hist(midwest['Length'], alpha = .5, label = 'Midwest')\n",
    "plt.hist(south['Length'], alpha = .5, label = 'South')\n",
    "plt.title('Name Lengths')\n",
    "plt.xlabel('Length of Name')\n",
    "plt.ylabel('Number of Names')\n",
    "plt.legend(loc='upper right');"
   ]
  },
  {
   "cell_type": "code",
   "execution_count": 34,
   "metadata": {},
   "outputs": [
    {
     "name": "stdout",
     "output_type": "stream",
     "text": [
      "DescribeResult(nobs=176680, minmax=(2, 13), mean=6.063266923251075, variance=1.91567080599222, skewness=0.21963303349568314, kurtosis=-0.1737440441330449)\n",
      "DescribeResult(nobs=255313, minmax=(2, 14), mean=6.138755175020465, variance=1.9029910821650566, skewness=0.18334032222450933, kurtosis=-0.16114589293743808)\n"
     ]
    }
   ],
   "source": [
    "print(stats.describe(midwest['Length']))\n",
    "print(stats.describe(south['Length']))"
   ]
  },
  {
   "cell_type": "code",
   "execution_count": 35,
   "metadata": {},
   "outputs": [
    {
     "data": {
      "text/plain": [
       "Ttest_indResult(statistic=-17.658826994265667, pvalue=9.209819597755679e-70)"
      ]
     },
     "execution_count": 35,
     "metadata": {},
     "output_type": "execute_result"
    }
   ],
   "source": [
    "stats.ttest_ind(midwest['Length'], south['Length'])"
   ]
  },
  {
   "cell_type": "code",
   "execution_count": 36,
   "metadata": {},
   "outputs": [
    {
     "data": {
      "image/png": "[encoded data removed]",
      "text/plain": [
       "<Figure size 432x288 with 1 Axes>"
      ]
     },
     "metadata": {
      "needs_background": "light"
     },
     "output_type": "display_data"
    }
   ],
   "source": [
    "plt.hist(midwest['Length'], alpha = .5, label = 'Midwest')\n",
    "plt.hist(west['Length'], alpha = .5, label = 'West')\n",
    "plt.title('Name Lengths')\n",
    "plt.xlabel('Length of Name')\n",
    "plt.ylabel('Number of Names')\n",
    "plt.legend(loc='upper right');"
   ]
  },
  {
   "cell_type": "code",
   "execution_count": 37,
   "metadata": {},
   "outputs": [
    {
     "name": "stdout",
     "output_type": "stream",
     "text": [
      "DescribeResult(nobs=176680, minmax=(2, 13), mean=6.063266923251075, variance=1.91567080599222, skewness=0.21963303349568314, kurtosis=-0.1737440441330449)\n",
      "DescribeResult(nobs=177030, minmax=(2, 15), mean=6.142348754448399, variance=1.9984229215998537, skewness=0.2632636713862051, kurtosis=0.16485764835618388)\n"
     ]
    }
   ],
   "source": [
    "print(stats.describe(midwest['Length']))\n",
    "print(stats.describe(west['Length']))"
   ]
  },
  {
   "cell_type": "code",
   "execution_count": 38,
   "metadata": {},
   "outputs": [
    {
     "data": {
      "text/plain": [
       "Ttest_indResult(statistic=-16.8098958435977, pvalue=2.1860557826370196e-63)"
      ]
     },
     "execution_count": 38,
     "metadata": {},
     "output_type": "execute_result"
    }
   ],
   "source": [
    "stats.ttest_ind(midwest['Length'], west['Length'])"
   ]
  },
  {
   "cell_type": "code",
   "execution_count": 39,
   "metadata": {},
   "outputs": [
    {
     "data": {
      "image/png": "[encoded data removed]",
      "text/plain": [
       "<Figure size 432x288 with 1 Axes>"
      ]
     },
     "metadata": {
      "needs_background": "light"
     },
     "output_type": "display_data"
    }
   ],
   "source": [
    "plt.hist(south['Length'], alpha = .5, label = 'South')\n",
    "plt.hist(west['Length'], alpha = .5, label = 'West')\n",
    "plt.title('Name Lengths')\n",
    "plt.xlabel('Length of Name')\n",
    "plt.ylabel('Number of Names')\n",
    "plt.legend(loc='upper right');"
   ]
  },
  {
   "cell_type": "code",
   "execution_count": 40,
   "metadata": {},
   "outputs": [
    {
     "name": "stdout",
     "output_type": "stream",
     "text": [
      "DescribeResult(nobs=255313, minmax=(2, 14), mean=6.138755175020465, variance=1.9029910821650566, skewness=0.18334032222450933, kurtosis=-0.16114589293743808)\n",
      "DescribeResult(nobs=177030, minmax=(2, 15), mean=6.142348754448399, variance=1.9984229215998537, skewness=0.2632636713862051, kurtosis=0.16485764835618388)\n"
     ]
    }
   ],
   "source": [
    "print(stats.describe(south['Length']))\n",
    "print(stats.describe(west['Length']))"
   ]
  },
  {
   "cell_type": "code",
   "execution_count": 41,
   "metadata": {},
   "outputs": [
    {
     "data": {
      "text/plain": [
       "Ttest_indResult(statistic=-0.8337595205258582, pvalue=0.40441697076953986)"
      ]
     },
     "execution_count": 41,
     "metadata": {},
     "output_type": "execute_result"
    }
   ],
   "source": [
    "stats.ttest_ind(south['Length'], west['Length'])"
   ]
  },
  {
   "cell_type": "markdown",
   "metadata": {},
   "source": [
    "We reject the null hypothesis for every test with the Midwest, and fail to reject it between every other region. This means that only the Midwest has significantly different name lengths for girls than other regions."
   ]
  }
 ],
 "metadata": {
  "kernelspec": {
   "display_name": "Python 3",
   "language": "python",
   "name": "python3"
  },
  "language_info": {
   "codemirror_mode": {
    "name": "ipython",
    "version": 3
   },
   "file_extension": ".py",
   "mimetype": "text/x-python",
   "name": "python",
   "nbconvert_exporter": "python",
   "pygments_lexer": "ipython3",
   "version": "3.7.4"
  }
 },
 "nbformat": 4,
 "nbformat_minor": 2
}
